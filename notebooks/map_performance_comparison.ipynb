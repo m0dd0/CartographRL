{
 "cells": [
  {
   "cell_type": "code",
   "execution_count": 107,
   "metadata": {},
   "outputs": [
    {
     "name": "stdout",
     "output_type": "stream",
     "text": [
      "Time for dict map access: 0.44128210000053514\n",
      "Time for list map access: 0.2832952999888221\n",
      "Time for array map access: 0.594991600009962\n"
     ]
    }
   ],
   "source": [
    "import timeit\n",
    "import numpy as np\n",
    "from typing import List, Tuple, Dict\n",
    "\n",
    "\n",
    "def sample_fields(\n",
    "    x_dim: int, y_dim: int, ratio: float\n",
    ") -> Tuple[List[Tuple[int, int]], List[str]]:\n",
    "    np.random.seed(42)\n",
    "    all_coords = np.array([(x, y) for x in range(x_dim) for y in range(y_dim)])\n",
    "    occupied_coords_idx = np.random.choice(\n",
    "        list(range(len(all_coords))), int(x_dim * y_dim * ratio), replace=False\n",
    "    )\n",
    "    occupied_coords = all_coords[occupied_coords_idx]\n",
    "    occupied_coords = [tuple(coord) for coord in occupied_coords]\n",
    "    terrains = np.random.choice([\"G\", \"W\", \"M\"], len(occupied_coords))\n",
    "    return occupied_coords, terrains\n",
    "\n",
    "\n",
    "def create_dict_map(x_dim, y_dim, ratio) -> Dict[Tuple[int, int], str]:\n",
    "    return dict(zip(*sample_fields(x_dim, y_dim, ratio)))\n",
    "\n",
    "\n",
    "def create_list_map(x_dim: int, y_dim: int, ratio: float) -> List[List[str]]:\n",
    "    list_map = [[\" \" for _ in range(x_dim)] for _ in range(y_dim)]\n",
    "    for coord, terrain in zip(*sample_fields(x_dim, y_dim, ratio)):\n",
    "        list_map[coord[0]][coord[1]] = terrain\n",
    "    return list_map\n",
    "\n",
    "\n",
    "def create_array_map(x_dim: int, y_dim: int, ratio: float) -> np.ndarray:\n",
    "    array_map = np.full((x_dim, y_dim), \" \")\n",
    "    for coord, terrain in zip(*sample_fields(x_dim, y_dim, ratio)):\n",
    "        array_map[coord[0], coord[1]] = terrain\n",
    "    return array_map\n",
    "\n",
    "def insertable()\n",
    "\n",
    "MAP_SIZE = 11\n",
    "MAP_COVERAGE = 0\n",
    "\n",
    "print(\n",
    "    \"Time for dict map access:\",\n",
    "    timeit.timeit(\n",
    "        setup=f\"from __main__ import create_dict_map; dict_map = create_dict_map({MAP_SIZE}, {MAP_SIZE}, {MAP_COVERAGE})\",\n",
    "        stmt=\"dict_map[(5, 5)] != ' '\",\n",
    "        number=1000000,\n",
    "    ),\n",
    ")\n",
    "\n",
    "print(\n",
    "    \"Time for list map access:\",\n",
    "    timeit.timeit(\n",
    "        setup=f\"from __main__ import create_list_map; list_map = create_list_map({MAP_SIZE}, {MAP_SIZE}, {MAP_COVERAGE})\",\n",
    "        stmt=\"list_map[5][5] != ' '\",\n",
    "        number=1000000,\n",
    "    ),\n",
    ")\n",
    "\n",
    "print(\n",
    "    \"Time for array map access:\",\n",
    "    timeit.timeit(\n",
    "        setup=f\"from __main__ import create_array_map; array_map = create_array_map({MAP_SIZE}, {MAP_SIZE}, {MAP_COVERAGE})\",\n",
    "        stmt=\"array_map[5, 5] != ' '\",\n",
    "        number=1000000,\n",
    "    ),\n",
    ")"
   ]
  }
 ],
 "metadata": {
  "kernelspec": {
   "display_name": "cartograph",
   "language": "python",
   "name": "python3"
  },
  "language_info": {
   "codemirror_mode": {
    "name": "ipython",
    "version": 3
   },
   "file_extension": ".py",
   "mimetype": "text/x-python",
   "name": "python",
   "nbconvert_exporter": "python",
   "pygments_lexer": "ipython3",
   "version": "3.10.13"
  }
 },
 "nbformat": 4,
 "nbformat_minor": 2
}
