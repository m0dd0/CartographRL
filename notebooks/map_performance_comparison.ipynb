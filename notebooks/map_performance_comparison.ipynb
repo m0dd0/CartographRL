{
 "cells": [
  {
   "cell_type": "code",
   "execution_count": null,
   "metadata": {},
   "outputs": [],
   "source": [
    "import timeit\n",
    "import numpy as np\n",
    "\n",
    "MAP_SIZE = 11\n",
    "MAP_COVERAGE = 0.5\n",
    "all_coords = [(x, y) for x in range(MAP_SIZE) for y in range(MAP_SIZE)]\n",
    "occupied_coords = np.random.choice(all_coords, int(MAP_SIZE * MAP_SIZE * MAP_COVERAGE), replace=False)\n",
    "terrains = np.random.choice(['G', 'W', 'M'], len(occupied_coords))\n",
    "\n",
    "dict_map = dict(zip(occupied_coords, terrains))\n",
    "list_map = [[\" \" for _ in range(MAP_SIZE)] for _ in range(MAP_SIZE)]\n",
    "for coord, terrain in zip(occupied_coords, terrains):\n",
    "    list_map[coord[0]][coord[1]] = terrain\n",
    "\n",
    "# timeit.timeit(\"dict_map[(5, 5)]\", globals=globals())\n",
    "print(globals())"
   ]
  }
 ],
 "metadata": {
  "language_info": {
   "name": "python"
  }
 },
 "nbformat": 4,
 "nbformat_minor": 2
}
